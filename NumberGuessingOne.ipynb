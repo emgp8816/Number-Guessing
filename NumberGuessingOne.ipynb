{
 "cells": [
  {
   "cell_type": "code",
   "execution_count": 9,
   "id": "3f24e475",
   "metadata": {},
   "outputs": [
    {
     "name": "stdout",
     "output_type": "stream",
     "text": [
      "5324\n",
      "Introduce a possible number: 5326\n",
      "5324\n",
      "5326\n",
      "Correct digits: 3\n",
      "Correct positions: 3\n"
     ]
    },
    {
     "ename": "KeyboardInterrupt",
     "evalue": "Interrupted by user",
     "output_type": "error",
     "traceback": [
      "\u001b[1;31m---------------------------------------------------------------------------\u001b[0m",
      "\u001b[1;31mKeyboardInterrupt\u001b[0m                         Traceback (most recent call last)",
      "\u001b[1;32m~\\AppData\\Local\\Temp/ipykernel_15304/261923437.py\u001b[0m in \u001b[0;36m<module>\u001b[1;34m\u001b[0m\n\u001b[0;32m     58\u001b[0m \u001b[1;31m#game loop until victury is archieved\u001b[0m\u001b[1;33m\u001b[0m\u001b[1;33m\u001b[0m\u001b[0m\n\u001b[0;32m     59\u001b[0m \u001b[1;32mwhile\u001b[0m \u001b[0muser_number\u001b[0m \u001b[1;33m!=\u001b[0m\u001b[0mrand_number\u001b[0m\u001b[1;33m:\u001b[0m\u001b[1;33m\u001b[0m\u001b[1;33m\u001b[0m\u001b[0m\n\u001b[1;32m---> 60\u001b[1;33m     \u001b[0muser_number\u001b[0m\u001b[1;33m=\u001b[0m \u001b[0mfourDigits\u001b[0m\u001b[1;33m(\u001b[0m\u001b[0mstr\u001b[0m\u001b[1;33m(\u001b[0m\u001b[0minput\u001b[0m\u001b[1;33m(\u001b[0m\u001b[1;34m\"Introduce a possible number: \"\u001b[0m\u001b[1;33m)\u001b[0m\u001b[1;33m)\u001b[0m\u001b[1;33m)\u001b[0m\u001b[1;33m\u001b[0m\u001b[1;33m\u001b[0m\u001b[0m\n\u001b[0m\u001b[0;32m     61\u001b[0m     \u001b[1;31m# dev validation\u001b[0m\u001b[1;33m\u001b[0m\u001b[1;33m\u001b[0m\u001b[0m\n\u001b[0;32m     62\u001b[0m     \u001b[0mprint\u001b[0m\u001b[1;33m(\u001b[0m\u001b[0mrand_number\u001b[0m\u001b[1;33m)\u001b[0m\u001b[1;33m\u001b[0m\u001b[1;33m\u001b[0m\u001b[0m\n",
      "\u001b[1;32m~\\anaconda3\\lib\\site-packages\\ipykernel\\kernelbase.py\u001b[0m in \u001b[0;36mraw_input\u001b[1;34m(self, prompt)\u001b[0m\n\u001b[0;32m   1004\u001b[0m                 \u001b[1;34m\"raw_input was called, but this frontend does not support input requests.\"\u001b[0m\u001b[1;33m\u001b[0m\u001b[1;33m\u001b[0m\u001b[0m\n\u001b[0;32m   1005\u001b[0m             )\n\u001b[1;32m-> 1006\u001b[1;33m         return self._input_request(\n\u001b[0m\u001b[0;32m   1007\u001b[0m             \u001b[0mstr\u001b[0m\u001b[1;33m(\u001b[0m\u001b[0mprompt\u001b[0m\u001b[1;33m)\u001b[0m\u001b[1;33m,\u001b[0m\u001b[1;33m\u001b[0m\u001b[1;33m\u001b[0m\u001b[0m\n\u001b[0;32m   1008\u001b[0m             \u001b[0mself\u001b[0m\u001b[1;33m.\u001b[0m\u001b[0m_parent_ident\u001b[0m\u001b[1;33m[\u001b[0m\u001b[1;34m\"shell\"\u001b[0m\u001b[1;33m]\u001b[0m\u001b[1;33m,\u001b[0m\u001b[1;33m\u001b[0m\u001b[1;33m\u001b[0m\u001b[0m\n",
      "\u001b[1;32m~\\anaconda3\\lib\\site-packages\\ipykernel\\kernelbase.py\u001b[0m in \u001b[0;36m_input_request\u001b[1;34m(self, prompt, ident, parent, password)\u001b[0m\n\u001b[0;32m   1049\u001b[0m             \u001b[1;32mexcept\u001b[0m \u001b[0mKeyboardInterrupt\u001b[0m\u001b[1;33m:\u001b[0m\u001b[1;33m\u001b[0m\u001b[1;33m\u001b[0m\u001b[0m\n\u001b[0;32m   1050\u001b[0m                 \u001b[1;31m# re-raise KeyboardInterrupt, to truncate traceback\u001b[0m\u001b[1;33m\u001b[0m\u001b[1;33m\u001b[0m\u001b[0m\n\u001b[1;32m-> 1051\u001b[1;33m                 \u001b[1;32mraise\u001b[0m \u001b[0mKeyboardInterrupt\u001b[0m\u001b[1;33m(\u001b[0m\u001b[1;34m\"Interrupted by user\"\u001b[0m\u001b[1;33m)\u001b[0m \u001b[1;32mfrom\u001b[0m \u001b[1;32mNone\u001b[0m\u001b[1;33m\u001b[0m\u001b[1;33m\u001b[0m\u001b[0m\n\u001b[0m\u001b[0;32m   1052\u001b[0m             \u001b[1;32mexcept\u001b[0m \u001b[0mException\u001b[0m\u001b[1;33m:\u001b[0m\u001b[1;33m\u001b[0m\u001b[1;33m\u001b[0m\u001b[0m\n\u001b[0;32m   1053\u001b[0m                 \u001b[0mself\u001b[0m\u001b[1;33m.\u001b[0m\u001b[0mlog\u001b[0m\u001b[1;33m.\u001b[0m\u001b[0mwarning\u001b[0m\u001b[1;33m(\u001b[0m\u001b[1;34m\"Invalid Message:\"\u001b[0m\u001b[1;33m,\u001b[0m \u001b[0mexc_info\u001b[0m\u001b[1;33m=\u001b[0m\u001b[1;32mTrue\u001b[0m\u001b[1;33m)\u001b[0m\u001b[1;33m\u001b[0m\u001b[1;33m\u001b[0m\u001b[0m\n",
      "\u001b[1;31mKeyboardInterrupt\u001b[0m: Interrupted by user"
     ]
    }
   ],
   "source": [
    "#Number Guessing\n",
    "'''\n",
    "    Authors: Erika Maricruz Gallardo Pinal && Juan Román Vázquez Pech\n",
    "    Ver: 1.0\n",
    "    Date: 10/02/22\n",
    "'''\n",
    "import random\n",
    "a = random.randint(0,9999)\n",
    "rand_number=str(a)\n",
    "\n",
    "#find coincidences between digits and positions\n",
    "def coincidences(user_number, number):\n",
    "    cont_num=0;\n",
    "    cont_pos=0;\n",
    "    \n",
    "    #Positions\n",
    "    for i in range(0,len(user_number)):\n",
    "        for j in range(0,len(number)):\n",
    "            if user_number[i] == number[j] and j==i: #check for same position\n",
    "                    cont_pos+=1;\n",
    "    \n",
    "    #Digits\n",
    "    for i in range(0,len(user_number)):\n",
    "        for j in range(0,len(number)):\n",
    "            if user_number[i] == number[j]: # check same digits\n",
    "                user_number = user_number.replace(user_number[i],'-') # ignore numbers already considered \n",
    "                number = number.replace(number[j],'o')\n",
    "                cont_num+=1;\n",
    "                break\n",
    "                    \n",
    "    if cont_pos==4:\n",
    "        print('Congrants, u win:)') # victory\n",
    "    else:\n",
    "        print('Correct digits:',cont_num)\n",
    "        print('Correct positions:',cont_pos)\n",
    "    \n",
    "            \n",
    "# convert a number into a 4 character string \n",
    "def fourDigits(number):\n",
    "    if len(number)==4:\n",
    "        number=number\n",
    "    elif len(number)==3:\n",
    "        number='0' + number\n",
    "    elif len(number)==2:\n",
    "        number='00' + number\n",
    "    elif len(number)==1:\n",
    "        number='000' + number\n",
    "    return number\n",
    "    \n",
    "# dev validation\n",
    "#print(rand_number)\n",
    "\n",
    "rand_number = fourDigits(rand_number)\n",
    "user_number=''\n",
    "\n",
    "#game loop until victury is archieved\n",
    "while user_number !=rand_number:\n",
    "    user_number= fourDigits(str(input(\"Introduce a possible number: \")))\n",
    "    coincidences(user_number, rand_number)"
   ]
  },
  {
   "cell_type": "code",
   "execution_count": null,
   "id": "b0dd9fd2",
   "metadata": {},
   "outputs": [
    {
     "name": "stdout",
     "output_type": "stream",
     "text": [
      "3111\n",
      "Introduce a possible number: 3333\n",
      "Correct digits: 1\n",
      "Correct positions: 1\n",
      "Introduce a possible number: 1111\n",
      "Correct digits: 1\n",
      "Correct positions: 0\n"
     ]
    }
   ],
   "source": []
  }
 ],
 "metadata": {
  "kernelspec": {
   "display_name": "Python 3 (ipykernel)",
   "language": "python",
   "name": "python3"
  },
  "language_info": {
   "codemirror_mode": {
    "name": "ipython",
    "version": 3
   },
   "file_extension": ".py",
   "mimetype": "text/x-python",
   "name": "python",
   "nbconvert_exporter": "python",
   "pygments_lexer": "ipython3",
   "version": "3.9.7"
  }
 },
 "nbformat": 4,
 "nbformat_minor": 5
}
